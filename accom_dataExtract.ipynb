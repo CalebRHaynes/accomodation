{
 "cells": [
  {
   "cell_type": "markdown",
   "metadata": {},
   "source": [
    "Accomodation Data Formatter \n",
    "\n",
    "Caleb Haynes 2/3/2020 for Johanna Jarcho \n",
    "\n",
    "This converts data output by a delayed discounting task presented in E-Prime. \n",
    "\n",
    "Conversion reformatting for input to hBayesDM R package - dd_hyperbolic.\n",
    "\n",
    "https://rdrr.io/cran/hBayesDM/man/dd_hyperbolic.html\n",
    "\n",
    "Requirements:\n",
    "\n",
    "subjID\n",
    "A unique identifier for each subject in the data-set.\n",
    "\n",
    "delay_later\n",
    "An integer representing the delayed days for the later option (e.g. 1, 6, 28).\n",
    "\n",
    "amount_later\n",
    "A floating point number representing the amount for the later option (e.g. 10.5, 13.4, 30.9).\n",
    "\n",
    "delay_sooner\n",
    "An integer representing the delayed days for the sooner option (e.g. 0).\n",
    "\n",
    "amount_sooner\n",
    "A floating point number representing the amount for the sooner option (e.g. 10).\n",
    "\n",
    "choice\n",
    "If amount_later was selected, choice == 1; else if amount_sooner was selected, choice == 0.\n"
   ]
  },
  {
   "cell_type": "code",
   "execution_count": 2,
   "metadata": {},
   "outputs": [],
   "source": [
    "import pandas as pd\n",
    "import numpy as np\n",
    "import glob"
   ]
  },
  {
   "cell_type": "code",
   "execution_count": 11,
   "metadata": {},
   "outputs": [],
   "source": [
    "'''\n",
    "find all converted .edat2 -> xlsx in data directory\n",
    "'''\n",
    "accom_dfs = [pd.read_excel(i) for i in glob.glob(\"data/s*_1/DD_*.xlsx\")]"
   ]
  },
  {
   "cell_type": "code",
   "execution_count": 8,
   "metadata": {},
   "outputs": [],
   "source": [
    "for df in accom_dfs:\n",
    "    subno = df['Subject'][1]\n",
    "    #drop practice rows\n",
    "    df = df.drop(df.index[0:2])\n",
    "    \n",
    "    '''\n",
    "    renaming columns to match R package standards. \n",
    "    DelR and AmtR always have larger values, variable/column LeftRight\n",
    "    determines if it will be placed on Left or Right side of screen for\n",
    "    counterbalancing. Higher value is also always 'delayed' option, so \n",
    "    we can rename those columns to fit standard. Opposite for smaller \n",
    "    values which will always be in DelL and AmtL.\n",
    "    '''\n",
    "    df = df.rename(columns={'Subject': 'subjID', \n",
    "                            'DelR': 'delay_later',\n",
    "                            'DelL': 'delay_sooner',\n",
    "                            'AmtR': 'amount_later',\n",
    "                            'AmtL': 'amount_sooner'})\n",
    "    \n",
    "    '''\n",
    "    Delay Soon is always 'now,' so we need to change all to 0\n",
    "    '''\n",
    "    df = df.replace(df[['delay_sooner']], 0)\n",
    "    \n",
    "    '''\n",
    "    Choice is more complex- \n",
    "    If LeftRight == 0, then Amount14 was shown on the right side of the screen, \n",
    "    if Amount14.RESP=='j'they chose what is on the right side of the screen.\n",
    "\n",
    "    If LeftRight == 1, then Amount6 was shown on the right side of the screen, \n",
    "    f Amount6.RESP =='j, they chose the delayed reward, which was what appeared on the right side of the screen.  \n",
    "    \n",
    "    '''\n",
    "    def label_displayed(row):\n",
    "        if row['LeftRight'] == 0 and row['Amount14.RESP'] == 'j':\n",
    "            return 1\n",
    "        else:\n",
    "            return 0\n",
    "    df['choice'] = df.apply(lambda row: label_displayed(row), axis=1)\n",
    "    \n",
    "    hbayes_df = df[['subjID','delay_later','amount_later','delay_sooner','amount_sooner','choice']]\n",
    "    \n",
    "    #write df to tsv\n",
    "    hbayes_df.to_csv('data/s{}_1/DD_{}.tsv'.format(subno, subno), index = False, sep = '\\t')"
   ]
  },
  {
   "cell_type": "code",
   "execution_count": 24,
   "metadata": {},
   "outputs": [],
   "source": [
    "'''\n",
    "Now I need to join all output tsvs from above into one merged \n",
    "'''\n",
    "accom_dfs = [pd.read_csv(i, sep = '\\t') for i in glob.glob(\"data/s*_1/DD_*.tsv\")]\n",
    "merged = pd.concat(accom_dfs)"
   ]
  },
  {
   "cell_type": "code",
   "execution_count": 30,
   "metadata": {},
   "outputs": [],
   "source": [
    "merged.to_csv('accom_merged.txt', index=False, sep = '\\t')"
   ]
  }
 ],
 "metadata": {
  "kernelspec": {
   "display_name": "Python 3",
   "language": "python",
   "name": "python3"
  },
  "language_info": {
   "codemirror_mode": {
    "name": "ipython",
    "version": 3
   },
   "file_extension": ".py",
   "mimetype": "text/x-python",
   "name": "python",
   "nbconvert_exporter": "python",
   "pygments_lexer": "ipython3",
   "version": "3.5.2"
  }
 },
 "nbformat": 4,
 "nbformat_minor": 2
}
